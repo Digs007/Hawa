{
 "cells": [
  {
   "cell_type": "markdown",
   "metadata": {
    "id": "UlRohYmxBC-g"
   },
   "source": [
    "### Columnar Transposition\n"
   ]
  },
  {
   "cell_type": "code",
   "execution_count": 7,
   "metadata": {
    "id": "1qdm3jke4jMA"
   },
   "outputs": [],
   "source": [
    "def encrypt(key, msg):\n",
    "  mat = [list(key)]\n",
    "  # print(mat)\n",
    "  n = len(key)\n",
    "  m = len(msg)\n",
    "  for i in range(0,m,n):\n",
    "    if i+n < m:\n",
    "      mat.append(list(msg[i:i+n]))\n",
    "    else:\n",
    "      lis = list(msg[i:])\n",
    "      lis.extend(['_'] * (n - len(lis)))\n",
    "      mat.append(lis)\n",
    "  # print(mat)\n",
    "  key_lis = sorted(list(key))\n",
    "  cypher_text = \"\"\n",
    "  for i in key_lis:\n",
    "    index = mat[0].index(i)\n",
    "    mat[0][index] = '_'\n",
    "    for j in range(1,len(mat)):\n",
    "      cypher_text += mat[j][index]\n",
    "  return cypher_text\n",
    "\n"
   ]
  },
  {
   "cell_type": "code",
   "execution_count": 8,
   "metadata": {
    "id": "indFw6lc5dGR"
   },
   "outputs": [],
   "source": [
    "def decrypt(key, msg):\n",
    "  n = len(key)\n",
    "  m = len(msg)\n",
    "  row = m//n\n",
    "  dec_mat = [list(key)]\n",
    "  mat = [sorted(list(key))]\n",
    "  for i in range(row):\n",
    "    dec_mat.append(['']*n)\n",
    "    mat.append([])\n",
    "  k=0\n",
    "  # print(mat)\n",
    "  # print(row)\n",
    "  for i in range(n):\n",
    "    for j in range(1,row+1):\n",
    "      mat[j].append(msg[k])\n",
    "      k+=1\n",
    "  # print(mat)\n",
    "  # print(dec_mat)\n",
    "  for i in range(n):\n",
    "    index = dec_mat[0].index(mat[0][i])\n",
    "    dec_mat[0][index] = \"_\"\n",
    "    for j in range(1,row+1):\n",
    "      dec_mat[j][index] = mat[j][i]\n",
    "  # print(dec_mat)\n",
    "  text = \"\"\n",
    "  for i in range(1,row+1):\n",
    "    for j in range(n):\n",
    "      text += dec_mat[i][j]\n",
    "  return text\n"
   ]
  },
  {
   "cell_type": "code",
   "execution_count": 9,
   "metadata": {
    "colab": {
     "base_uri": "https://localhost:8080/"
    },
    "id": "d9ysaa7E4mHI",
    "outputId": "9c2f49b0-4d56-4074-ccac-a14a7236da3d"
   },
   "outputs": [
    {
     "name": "stdout",
     "output_type": "stream",
     "text": [
      "Key:  231\n",
      "Message:  be ready for the attack tonight at 8pm\n",
      "\n",
      "Encrypted Message:   a rhaa nha8_brdf etctittpeeyot tkog  m\n",
      "\n",
      "Decrypted Message:  be ready for the attack tonight at 8pm_\n"
     ]
    }
   ],
   "source": [
    "key = \"231\"\n",
    "message = \"be ready for the attack tonight at 8pm\"\n",
    "\n",
    "print(\"Key: \", key)\n",
    "print(\"Message: \", message)\n",
    "\n",
    "enc_msg = encrypt(key, message)\n",
    "print(\"\\nEncrypted Message: \", enc_msg)\n",
    "\n",
    "dec_msg = decrypt(key, enc_msg)\n",
    "print(\"\\nDecrypted Message: \", dec_msg)"
   ]
  },
  {
   "cell_type": "code",
   "execution_count": null,
   "metadata": {},
   "outputs": [],
   "source": []
  }
 ],
 "metadata": {
  "colab": {
   "name": "ICS columnar Transposition.ipynb",
   "provenance": []
  },
  "kernelspec": {
   "display_name": "Python 3",
   "language": "python",
   "name": "python3"
  },
  "language_info": {
   "codemirror_mode": {
    "name": "ipython",
    "version": 3
   },
   "file_extension": ".py",
   "mimetype": "text/x-python",
   "name": "python",
   "nbconvert_exporter": "python",
   "pygments_lexer": "ipython3",
   "version": "3.7.3"
  }
 },
 "nbformat": 4,
 "nbformat_minor": 1
}
