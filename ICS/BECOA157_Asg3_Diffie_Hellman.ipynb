{
 "cells": [
  {
   "cell_type": "markdown",
   "metadata": {
    "id": "49c3e313"
   },
   "source": [
    "# Ashish Kulkarni\n",
    "# BECOA157\n",
    "# Title - Implementation of Diffie-Hellman key exchange"
   ]
  },
  {
   "cell_type": "code",
   "execution_count": 1,
   "metadata": {
    "id": "ed97953a"
   },
   "outputs": [],
   "source": [
    "def isPrime(n):\n",
    "    flag = 0\n",
    "  \n",
    "    if(n > 1):\n",
    "        for i in range(2, int(n/2)+1):\n",
    "            if (n % i == 0):\n",
    "                flag = 1\n",
    "                break\n",
    "        if (flag == 0):\n",
    "            return True\n",
    "        else:\n",
    "            return False\n",
    "    else:\n",
    "        return False"
   ]
  },
  {
   "cell_type": "code",
   "execution_count": 2,
   "metadata": {
    "id": "f089f5a2"
   },
   "outputs": [],
   "source": [
    "def findA():\n",
    "    l = []\n",
    "    for i in range(1,q):\n",
    "        a = i\n",
    "\n",
    "        if(isPrime(a)):\n",
    "            for j in range(1,q):\n",
    "                ans=(pow(a,j)%q)\n",
    "                if(ans not in l):\n",
    "                    l.append(ans)\n",
    "\n",
    "            if(len(l)==q-1):\n",
    "                break\n",
    "    return a "
   ]
  },
  {
   "cell_type": "code",
   "execution_count": 3,
   "metadata": {
    "id": "b3885b70"
   },
   "outputs": [],
   "source": [
    "def diffieHellman(q,xa,xb):\n",
    "    a = findA()\n",
    "    \n",
    "    print(\"Primitive Root = \", a)\n",
    "    \n",
    "    ya = pow(a,xa)%q\n",
    "    print(\"Public Key of A ya = \", ya)\n",
    "    \n",
    "    yb = pow(a,xb)%q\n",
    "    print(\"Public Key of B yb = \", yb)\n",
    "    \n",
    "    ksa = pow(yb,xa)%q\n",
    "    print(\"Shared Key Calculated at A's Side K_s = \",ksa)\n",
    "    \n",
    "    ksb = pow(ya,xb)%q\n",
    "    print(\"Shared Key Calculated at B's Side K_s = \",ksb)"
   ]
  },
  {
   "cell_type": "code",
   "execution_count": 4,
   "metadata": {
    "id": "97eba222",
    "outputId": "3c6f2cb4-fbd9-43cc-d7f6-14268416b346"
   },
   "outputs": [
    {
     "name": "stdout",
     "output_type": "stream",
     "text": [
      "--------Diffie–Hellman Key Exchange Algorithm-------\n",
      "\n",
      "\n",
      "Enter value of q : 3\n",
      "Enter A's Private Key : 11\n",
      "Enter B's Private Key : 7\n",
      "Primitive Root =  2\n",
      "Public Key of A ya =  2\n",
      "Public Key of B yb =  2\n",
      "Shared Key Calculated at A's Side K_s =  2\n",
      "Shared Key Calculated at B's Side K_s =  2\n",
      "Do You Want To Continue 0/1 : 0\n"
     ]
    }
   ],
   "source": [
    "print(\"--------Diffie–Hellman Key Exchange Algorithm-------\\n\\n\")\n",
    "\n",
    "while True:\n",
    "\n",
    "    q = int(input(\"Enter value of q : \"))\n",
    "    \n",
    "    if isPrime(q):\n",
    "        xa = int(input(\"Enter A's Private Key : \"))\n",
    "        xb = int(input(\"Enter B's Private Key : \"))\n",
    "        diffieHellman(q,xa,xb)\n",
    "        \n",
    "    else:\n",
    "        print(\"Please Enter Correct Input\")\n",
    "        \n",
    "    flag = int(input(\"Do You Want To Continue 0/1 : \"))\n",
    "    if flag == 0:\n",
    "        break"
   ]
  },
  {
   "cell_type": "code",
   "execution_count": null,
   "metadata": {
    "id": "c3fff877"
   },
   "outputs": [],
   "source": []
  }
 ],
 "metadata": {
  "colab": {
   "name": "BECOA157_Asg3_Diffie_Hellman.ipynb",
   "provenance": []
  },
  "kernelspec": {
   "display_name": "Python 3",
   "language": "python",
   "name": "python3"
  },
  "language_info": {
   "codemirror_mode": {
    "name": "ipython",
    "version": 3
   },
   "file_extension": ".py",
   "mimetype": "text/x-python",
   "name": "python",
   "nbconvert_exporter": "python",
   "pygments_lexer": "ipython3",
   "version": "3.7.3"
  }
 },
 "nbformat": 4,
 "nbformat_minor": 5
}
