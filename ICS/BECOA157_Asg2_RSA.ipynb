{
 "cells": [
  {
   "cell_type": "code",
   "execution_count": 7,
   "metadata": {
    "id": "e9aace14"
   },
   "outputs": [],
   "source": [
    "def gcd(x, y):\n",
    "    \n",
    "    small,large = (x,y) if x<y else (y,x)\n",
    "\n",
    "    while small != 0:\n",
    "        temp = large % small\n",
    "        large = small\n",
    "        small = temp\n",
    "\n",
    "    return large"
   ]
  },
  {
   "cell_type": "code",
   "execution_count": 8,
   "metadata": {
    "id": "9f6d348f"
   },
   "outputs": [],
   "source": [
    "def find_e(z):\n",
    "    e = 2\n",
    "    while e < z:\n",
    "        if gcd(e, z)==1:\n",
    "            return e\n",
    "        e += 1"
   ]
  },
  {
   "cell_type": "code",
   "execution_count": 9,
   "metadata": {
    "id": "f4474535"
   },
   "outputs": [],
   "source": [
    "def egcd(a, b):\n",
    "    if a == 0:\n",
    "        return (b, 0, 1)\n",
    "    else:\n",
    "        g, y, x = egcd(b % a, a)\n",
    "        return (g, x - (b // a) * y, y)\n",
    "\n",
    "\n",
    "def modinv(a, m):\n",
    "    g, x, y = egcd(a, m)\n",
    "    if g != 1:\n",
    "        raise Exception('Modular inverse does not exist!')\n",
    "    else:\n",
    "        return x % m"
   ]
  },
  {
   "cell_type": "code",
   "execution_count": 10,
   "metadata": {
    "id": "2a71ab3e"
   },
   "outputs": [],
   "source": [
    "def isPrime(n):\n",
    "    flag = 0\n",
    "  \n",
    "    if(n > 1):\n",
    "        for i in range(2, int(n/2)+1):\n",
    "            if (n % i == 0):\n",
    "                flag = 1\n",
    "                break\n",
    "        if (flag == 0):\n",
    "            return True\n",
    "        else:\n",
    "            return False\n",
    "    else:\n",
    "        return False"
   ]
  },
  {
   "cell_type": "code",
   "execution_count": 11,
   "metadata": {
    "id": "0741be1e"
   },
   "outputs": [],
   "source": [
    "def rsa_algo(p,q, msg):\n",
    "    n = p * q\n",
    "    phi_n = (p-1) * (q-1)\n",
    "\n",
    "    e = find_e(phi_n)\n",
    "    print(e)\n",
    "    d = modinv(e, phi_n)\n",
    "    \n",
    "    C = pow(msg,e) % n\n",
    "    \n",
    "    print(\"Cipher Text : \", C)\n",
    "    \n",
    "    M = pow(C,d) % n\n",
    "    \n",
    "    print(\"Original Message : \", M)\n",
    "    "
   ]
  },
  {
   "cell_type": "code",
   "execution_count": null,
   "metadata": {
    "id": "be08065e",
    "outputId": "8b5b88f7-8e0d-4944-f4fd-698b18d36515"
   },
   "outputs": [
    {
     "name": "stdout",
     "output_type": "stream",
     "text": [
      "--------RSA ALGORITHM-------\n",
      "\n",
      "\n",
      "Enter Prime Number p : 23\n",
      "Enter Prime Number q : 7\n",
      "Enter Message : 5\n",
      "5\n",
      "Cipher Text :  66\n",
      "Original Message :  5\n"
     ]
    }
   ],
   "source": [
    "print(\"--------RSA ALGORITHM-------\\n\\n\")\n",
    "\n",
    "while True:\n",
    "    \n",
    "    p = int(input(\"Enter Prime Number p : \"))\n",
    "    q = int(input(\"Enter Prime Number q : \"))\n",
    "    \n",
    "    if isPrime(p) and isPrime(q):\n",
    "        \n",
    "        msg = int(input(\"Enter Message : \"))\n",
    "\n",
    "        rsa_algo(p, q, msg)\n",
    "        \n",
    "    else:\n",
    "        print(\"Please Enter Correct Input\")\n",
    "        \n",
    "    flag = int(input(\"Do You Want To Continue 0/1 : \"))\n",
    "    if flag == 0:\n",
    "        break"
   ]
  },
  {
   "cell_type": "code",
   "execution_count": null,
   "metadata": {},
   "outputs": [],
   "source": []
  },
  {
   "cell_type": "code",
   "execution_count": null,
   "metadata": {},
   "outputs": [],
   "source": []
  }
 ],
 "metadata": {
  "colab": {
   "name": "BECOA157_Asg2_RSA.ipynb",
   "provenance": []
  },
  "kernelspec": {
   "display_name": "Python 3",
   "language": "python",
   "name": "python3"
  }
 },
 "nbformat": 4,
 "nbformat_minor": 5
}
