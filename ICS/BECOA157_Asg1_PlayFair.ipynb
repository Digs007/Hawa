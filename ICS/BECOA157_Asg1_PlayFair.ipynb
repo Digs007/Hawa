{
 "cells": [
  {
   "cell_type": "code",
   "execution_count": 80,
   "metadata": {
    "id": "ghAP7Jya5ElY"
   },
   "outputs": [],
   "source": [
    "def createMatrix(keyword):\n",
    "    \n",
    "    result = []\n",
    "    \n",
    "    for ch in keyword:\n",
    "        if 'J' == ch and 'I' in result:\n",
    "            pass\n",
    "        elif ch not in result:\n",
    "            if ch == 'J':\n",
    "                result.append('I')\n",
    "            else:\n",
    "                result.append(ch)\n",
    "\n",
    "    flag = 0\n",
    "\n",
    "    for i in range(65, 91):\n",
    "        if chr(i) not in result:\n",
    "            if i == 73 and chr(74) not in result:\n",
    "                result.append(\"I\")\n",
    "                flag = 1\n",
    "            elif flag == 0 and i == 73 or i == 74:\n",
    "                pass    \n",
    "            else:\n",
    "                result.append(chr(i))\n",
    "                \n",
    "    k = 0\n",
    "\n",
    "    for i in range(0, 5):\n",
    "        for j in range(0, 5):\n",
    "            matrix[i][j] = result[k]\n",
    "            k += 1"
   ]
  },
  {
   "cell_type": "code",
   "execution_count": 81,
   "metadata": {
    "id": "hO0xd9Rx5Elc"
   },
   "outputs": [],
   "source": [
    "def printMatrix():\n",
    "    for i in range(0, 5):\n",
    "        for j in range(0, 5):\n",
    "            print(matrix[i][j], end=\" \")\n",
    "        print('\\n')"
   ]
  },
  {
   "cell_type": "code",
   "execution_count": 82,
   "metadata": {
    "id": "5_TBft1A5Eld"
   },
   "outputs": [],
   "source": [
    "def generateString(msg):\n",
    "    for s in range(0, len(msg)+1, 2):\n",
    "        if s < len(msg)-1:\n",
    "            if msg[s] == msg[s+1]:\n",
    "                msg = msg[:s+1]+'X'+msg[s+1:]\n",
    "\n",
    "    if len(msg) % 2 != 0:\n",
    "        msg = msg[:]+'X'\n",
    "    \n",
    "    return msg"
   ]
  },
  {
   "cell_type": "code",
   "execution_count": 83,
   "metadata": {
    "id": "qmaMVeLS5Ele"
   },
   "outputs": [],
   "source": [
    "def generatePairs(msg):\n",
    "    pairs = []\n",
    "    i = 0\n",
    "\n",
    "    while i+1 < len(msg):\n",
    "        pairs.append((msg[i] , msg[i + 1]))\n",
    "        i += 2\n",
    "    return pairs"
   ]
  },
  {
   "cell_type": "code",
   "execution_count": 84,
   "metadata": {
    "id": "yJl4uSxI5Elf"
   },
   "outputs": [],
   "source": [
    "def index(c): \n",
    "    l1 = list()\n",
    "    if c == 'J':\n",
    "        c = 'I'\n",
    "    for i, j in enumerate(matrix):\n",
    "        for k, l in enumerate(j):\n",
    "            if c == l:\n",
    "                l1.append(i)\n",
    "                l1.append(k)\n",
    "                #print(l1)\n",
    "                return l1"
   ]
  },
  {
   "cell_type": "code",
   "execution_count": 85,
   "metadata": {
    "id": "jWykES5Z5Elf"
   },
   "outputs": [],
   "source": [
    "def encrypt(pairs):\n",
    "    cipher_text = ''\n",
    "    i=0\n",
    "    while (i<len(pairs)):\n",
    "        char1 = pairs[i]\n",
    "        char2 = pairs[i+1]\n",
    "        if char1 == 'J':\n",
    "            char1 = 'I'\n",
    "        if char2 == 'J':\n",
    "            char2 = 'I'\n",
    "        i+=2\n",
    "        row1, col1 = index(char1)\n",
    "        row2, col2 = index(char2)\n",
    "\n",
    "        if row1 == row2:\n",
    "            cipher_text+=(matrix[row1][(col1 + 1) % 5])\n",
    "            cipher_text+=(matrix[row2][(col2 + 1) % 5])\n",
    "        elif col1 == col2:\n",
    "            cipher_text+=(matrix[((row1 + 1) % 5)][col1])\n",
    "            cipher_text+=(matrix[((row2 + 1) % 5)][col2])\n",
    "        else:  # rectangle\n",
    "            cipher_text+=(matrix[row1][col2])\n",
    "            cipher_text+=(matrix[row2][col1])\n",
    "            \n",
    "    return cipher_text"
   ]
  },
  {
   "cell_type": "code",
   "execution_count": 86,
   "metadata": {
    "id": "2z8Mq52n5Elg"
   },
   "outputs": [],
   "source": [
    "def decrypt(pairs):\n",
    "    plain_text = ''\n",
    "    i=0\n",
    "    while (i<len(pairs)):\n",
    "        char1 = pairs[i]\n",
    "        char2 = pairs[i+1]\n",
    "        if char1 == 'J':\n",
    "            char1 = 'I'\n",
    "        if char2 == 'J':\n",
    "            char2 = 'I'\n",
    "        i+=2\n",
    "        row1, col1 = index(char1)\n",
    "        row2, col2 = index(char2)\n",
    " \n",
    "        if row1 == row2:\n",
    "            plain_text += (matrix[row1][(col1 - 1) % 5])\n",
    "            plain_text += (matrix[row2][(col2 - 1) % 5])\n",
    "        elif col1 == col2:\n",
    "            plain_text += (matrix[((row1 - 1) % 5)][col1])\n",
    "            plain_text += (matrix[((row2 - 1) % 5)][col2])\n",
    "        else:  # rectangle\n",
    "            plain_text += (matrix[row1][col2])\n",
    "            plain_text += (matrix[row2][col1])\n",
    "            \n",
    "    return plain_text"
   ]
  },
  {
   "cell_type": "code",
   "execution_count": null,
   "metadata": {
    "id": "M00rGm2l5Elh",
    "outputId": "aabcb7d3-dc5a-4029-dc0e-70cbbc8f7778"
   },
   "outputs": [
    {
     "name": "stdout",
     "output_type": "stream",
     "text": [
      "--------PlayFair Matrix-------\n",
      "\n",
      "\n",
      "Enter Keyword : sgdf\n",
      "S G D F A \n",
      "\n",
      "B C E H I \n",
      "\n",
      "K L M N O \n",
      "\n",
      "P Q R T U \n",
      "\n",
      "V W X Y Z \n",
      "\n",
      "Enter Message : sdfsdf\n",
      "SDFSDF\n",
      "3\n",
      "\n",
      "Pairs of Plain Text :  [('S', 'D'), ('F', 'S'), ('D', 'F')]\n",
      "0 S D 6\n",
      "2 F S 6\n",
      "4 D F 6\n",
      "Cipher Text :  GFAGFA\n",
      "\n",
      "Pairs of Cipher Text :  [('G', 'F'), ('A', 'G'), ('F', 'A')]\n",
      "Plain Text :  SDFSDF\n"
     ]
    }
   ],
   "source": [
    "print(\"--------PlayFair Matrix-------\\n\\n\")\n",
    "\n",
    "while True:\n",
    "\n",
    "    matrix = [[0 for i in range(5)] for j in range(5)]\n",
    "    keyword = str(input(\"Enter Keyword : \"))\n",
    "    keyword = keyword.upper()\n",
    "\n",
    "    createMatrix(keyword)\n",
    "    printMatrix()\n",
    "    \n",
    "    msg = str(input(\"Enter Message : \"))\n",
    "    msg = msg.upper()\n",
    "    msg = msg.replace(\" \", \"\")\n",
    "    \n",
    "    string = generateString(msg)\n",
    "    pairs = generatePairs(string)\n",
    "    \n",
    "    print(\"\\nPairs of Plain Text : \", pairs)\n",
    "    \n",
    "    cipher_text = encrypt(string)\n",
    "    print(\"Cipher Text : \",cipher_text)\n",
    "        \n",
    "    cipher_pairs = generatePairs(cipher_text)\n",
    "    print(\"\\nPairs of Cipher Text : \", cipher_pairs)\n",
    "    \n",
    "    plain_text = decrypt(cipher_text)\n",
    "    print(\"Plain Text : \", plain_text)\n",
    "    \n",
    "    flag = int(input(\"Do You Want To Continue 0/1 : \"))\n",
    "    if flag == 0:\n",
    "        break"
   ]
  },
  {
   "cell_type": "code",
   "execution_count": null,
   "metadata": {
    "id": "caUmfj_35Elk"
   },
   "outputs": [],
   "source": []
  },
  {
   "cell_type": "code",
   "execution_count": null,
   "metadata": {},
   "outputs": [],
   "source": []
  }
 ],
 "metadata": {
  "colab": {
   "name": "BECOA157_Asg1_PlayFair.ipynb",
   "provenance": []
  },
  "kernelspec": {
   "display_name": "Python 3",
   "language": "python",
   "name": "python3"
  },
  "language_info": {
   "codemirror_mode": {
    "name": "ipython",
    "version": 3
   },
   "file_extension": ".py",
   "mimetype": "text/x-python",
   "name": "python",
   "nbconvert_exporter": "python",
   "pygments_lexer": "ipython3",
   "version": "3.7.3"
  }
 },
 "nbformat": 4,
 "nbformat_minor": 5
}
